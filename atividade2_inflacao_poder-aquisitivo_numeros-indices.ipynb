{
 "cells": [
  {
   "cell_type": "code",
   "execution_count": 21,
   "metadata": {},
   "outputs": [],
   "source": [
    "\n",
    "from datetime import datetime\n",
    "from collections import Counter\n",
    "import pandas as pd\n",
    "\n",
    "#Bibliotecas matemáticas e estatísticas\n",
    "import numpy as np\n",
    "from scipy.stats import spearmanr\n",
    "import statistics as sts\n",
    "from scipy import stats as s\n",
    "\n",
    "#Pacotes de machine learning e estatística\n",
    "from sklearn.datasets import load_diabetes\n",
    "from sklearn.linear_model import LinearRegression, Ridge\n",
    "from sklearn.preprocessing import PolynomialFeatures\n",
    "from sklearn.metrics import mean_squared_error\n",
    "from sklearn.pipeline import make_pipeline\n",
    "\n",
    "#Bibliotecas de visualização\n",
    "from matplotlib import pyplot as plt\n",
    "import seaborn as sns"
   ]
  },
  {
   "cell_type": "markdown",
   "metadata": {},
   "source": [
    "## 2 Números índices\n",
    "Este conceito do ponto de vista de cálculos é simples, mas trabalhoso, por isso o foco do estudo recomendado é mais a leitura do capítulo do livro para entendimento.\n",
    "\n",
    "Referência: TOLEDO, Geraldo Luciano e OVALLE, Ivo Izidório (1985) Estatítisca Básica. São Paulo: Atlas\n",
    "\n",
    "Detalhes no capítulo 7 do livro\n",
    "\n",
    "Propriedades de números índices:\n",
    "\n",
    "1. Identidade: o número-índice deve ser igual à unidade quando a época dada (t) coincidir com a época básica (0).\n",
    "2. Reversão (inversão) de tempo: se permutarem dois períodos s e t, os resultados são o inverso um do outro.\n",
    "3. Circular: \"considerando um índice em que as datas aparecem em progressão aritimética e cujas comparações foram feitas com base nas datas imediatamente anteriores, o valor do índice da última data, com base na primeira, será igual ao produto dos valores da série original\" (Toledo e Ovale, 1985)"
   ]
  },
  {
   "cell_type": "code",
   "execution_count": 22,
   "metadata": {},
   "outputs": [
    {
     "name": "stdout",
     "output_type": "stream",
     "text": [
      "Série original - Base: ano 1957\n",
      "Ano  : Índice\n",
      "1957 : 100\n",
      "1958 : 104\n",
      "1959 : 97\n",
      "1960 : 112\n",
      "1961 : 120\n",
      "1962 : 124\n",
      "1963 : 134\n",
      "1964 : 125\n",
      "1965 : 139\n",
      "1966 : 143\n",
      "1967 : 143\n",
      "1968 : 134\n"
     ]
    }
   ],
   "source": [
    "#Mudança de base\n",
    "anos = list(range(1957, 1969))\n",
    "ind_producao_industrial = [100, 104, 97, 112, 120, 124,\n",
    "                           134, 125, 139, 143, 143, 134]\n",
    "base = 1957\n",
    "\n",
    "print(f'Série original - Base: ano {base}')\n",
    "print('Ano ', 'Índice', sep=' : ')\n",
    "for k in range(0, len(anos)):\n",
    "  print(anos[k],\n",
    "        ind_producao_industrial[k],\n",
    "        sep=' : ')\n",
    "     "
   ]
  },
  {
   "cell_type": "code",
   "execution_count": 23,
   "metadata": {},
   "outputs": [
    {
     "name": "stdout",
     "output_type": "stream",
     "text": [
      "1961 120\n"
     ]
    },
    {
     "data": {
      "text/plain": [
       "120"
      ]
     },
     "execution_count": 23,
     "metadata": {},
     "output_type": "execute_result"
    }
   ],
   "source": [
    "#Definição da nova base de referência dos índices\n",
    "nova_base = 1961\n",
    "posicao_nb = anos.index(nova_base)\n",
    "posicao_nb\n",
    "\n",
    "print(anos[posicao_nb],\n",
    "      ind_producao_industrial[posicao_nb]\n",
    ")\n",
    "\n",
    "val_novaBase = ind_producao_industrial[posicao_nb]\n",
    "val_novaBase"
   ]
  },
  {
   "cell_type": "code",
   "execution_count": 24,
   "metadata": {},
   "outputs": [
    {
     "name": "stdout",
     "output_type": "stream",
     "text": [
      "Série ajustada - Base: ano 1961\n",
      "Ano  : Índice\n",
      "1957 : 83\n",
      "1958 : 87\n",
      "1959 : 81\n",
      "1960 : 93\n",
      "1961 : 100\n",
      "1962 : 103\n",
      "1963 : 112\n",
      "1964 : 104\n",
      "1965 : 116\n",
      "1966 : 119\n",
      "1967 : 119\n",
      "1968 : 112\n"
     ]
    }
   ],
   "source": [
    "\"\"\"\n",
    "Para manuntenção da coerência dos índices esta forma de ajuste só é válida\n",
    "quando o método de cálculo original dos número-índice respeita a terceira\n",
    "proprieda (Circular) de números-índices\n",
    "\"\"\"\n",
    "novos_indices = [round((ind_producao_industrial[k] / val_novaBase) * 100) for\n",
    "                 k in range(0, len(anos))]\n",
    "novos_indices\n",
    "\n",
    "print(f'Série ajustada - Base: ano {nova_base}')\n",
    "print('Ano ', 'Índice', sep=' : ')\n",
    "for k in range(0, len(anos)):\n",
    "  print(anos[k],\n",
    "        novos_indices[k],\n",
    "        sep=' : ')"
   ]
  },
  {
   "cell_type": "code",
   "execution_count": 25,
   "metadata": {},
   "outputs": [
    {
     "name": "stdout",
     "output_type": "stream",
     "text": [
      "Série 1\n",
      "Ano  : Índice\n",
      "1970 : 100\n",
      "1971 : 90\n",
      "1972 : 108\n",
      "1973 : 160\n",
      "1974 : 196\n",
      "1975 : 200\n",
      "Série 2\n",
      "Ano  : Índice\n",
      "1975 : 100\n",
      "1976 : 120\n",
      "1977 : 160\n",
      "1978 : 210\n",
      "1979 : 240\n",
      "1980 : 250\n"
     ]
    }
   ],
   "source": [
    "anos_serie1 = list(range(1970, 1976))\n",
    "anos_serie2 = list(range(1975, 1981))\n",
    "\n",
    "serie1 = [100, 90, 108, 160, 196, 200]\n",
    "serie2 = [100, 120, 160, 210, 240, 250]\n",
    "\n",
    "print('Série 1')\n",
    "print('Ano ', 'Índice', sep=' : ')\n",
    "for k in range(0, len(serie1)):\n",
    "  print(anos_serie1[k],\n",
    "        serie1[k],\n",
    "        sep=' : ')\n",
    "  \n",
    "print('Série 2')\n",
    "print('Ano ', 'Índice', sep=' : ')\n",
    "for k in range(0, len(serie2)):\n",
    "  print(anos_serie2[k],\n",
    "        serie2[k],\n",
    "        sep=' : ')"
   ]
  },
  {
   "cell_type": "code",
   "execution_count": 26,
   "metadata": {},
   "outputs": [
    {
     "name": "stdout",
     "output_type": "stream",
     "text": [
      "Série Completa\n",
      "Ano  : Índice\n",
      "1970 : 50\n",
      "1971 : 45\n",
      "1972 : 54\n",
      "1973 : 80\n",
      "1974 : 98\n",
      "1975 : 100\n",
      "1976 : 120\n",
      "1977 : 160\n",
      "1978 : 210\n",
      "1979 : 240\n",
      "1980 : 250\n"
     ]
    }
   ],
   "source": [
    "#Ajuste\n",
    "#Série novas é mantida inalterada\n",
    "#Série 1 é ajustada com base no ano/período de encontro das duas séries (1975)\n",
    "serie1N = [round(serie1[k] / serie1[-1] * serie2[0]) for\n",
    "           k in range(0, len(serie1))]\n",
    "serie1N\n",
    "\n",
    "anos_serieN = list(range(1970, 1981))\n",
    "serieN = serie1N[:-1] + serie2\n",
    "\n",
    "\n",
    "print('Série Completa')\n",
    "print('Ano ', 'Índice', sep=' : ')\n",
    "for k in range(0, len(serieN)):\n",
    "  print(anos_serieN[k],\n",
    "        serieN[k],\n",
    "        sep=' : ')"
   ]
  },
  {
   "cell_type": "markdown",
   "metadata": {},
   "source": [
    "## 3 Deflatores e poder aquisitivo"
   ]
  },
  {
   "cell_type": "code",
   "execution_count": 27,
   "metadata": {},
   "outputs": [
    {
     "name": "stdout",
     "output_type": "stream",
     "text": [
      "Faturamento - Valores nominais\n",
      "Ano  : Valor   : Índice de Preços\n",
      "1975 : 1600000 : 100\n",
      "1976 : 1800000 : 120\n",
      "1977 : 2400000 : 150\n",
      "1978 : 2800000 : 160\n",
      "1979 : 3000000 : 180\n",
      "1980 : 3200000 : 187\n"
     ]
    }
   ],
   "source": [
    "anos = list(range(1975, 1981))\n",
    "faturamento = [1600000,\n",
    "               1800000,\n",
    "               2400000,\n",
    "               2800000,\n",
    "               3000000,\n",
    "               3200000]\n",
    "indice_precos = [100, 120, 150, 160, 180, 187]\n",
    "\n",
    "print('Faturamento - Valores nominais')\n",
    "print('Ano ',\n",
    "      'Valor  ',\n",
    "      'Índice de Preços',\n",
    "      sep=' : ')\n",
    "\n",
    "for k in range(0, len(anos)):\n",
    "  print(anos[k],\n",
    "        faturamento[k],\n",
    "        indice_precos[k],\n",
    "        sep=' : ')"
   ]
  },
  {
   "cell_type": "code",
   "execution_count": 28,
   "metadata": {},
   "outputs": [
    {
     "name": "stdout",
     "output_type": "stream",
     "text": [
      "Faturamento - Falores deflacionados com base em 100\n",
      "Ano  : Valor   : Índice de Preços\n",
      "1975 : 1600000 : 100\n",
      "1976 : 1500000 : 120\n",
      "1977 : 1600000 : 150\n",
      "1978 : 1750000 : 160\n",
      "1979 : 1666667 : 180\n",
      "1980 : 1711230 : 187\n"
     ]
    }
   ],
   "source": [
    "\"\"\"\n",
    "Calculando preço deflacionado\n",
    "Definido o ano base para deflacionamento, fazemos o seguinte:\n",
    "* (valor / indice_atual) * indice_base:\n",
    "  valor = valor a ser deflacionado\n",
    "  indice_atual = indice do período relativo ao valor a ser deflacionado\n",
    "  indice_base = indice do período escolhido como base\n",
    "\"\"\"\n",
    "fat_deflacionado = [(faturamento[k] / indice_precos[k]) * indice_precos[0] for\n",
    "    k in range(0, len(anos))]\n",
    "\n",
    "print(f'Faturamento - Falores deflacionados com base em {indice_precos[0]}')\n",
    "print('Ano ',\n",
    "      'Valor  ',\n",
    "      'Índice de Preços',\n",
    "      sep=' : ')\n",
    "\n",
    "for k in range(0, len(anos)):\n",
    "  print(anos[k],\n",
    "        round(fat_deflacionado[k]),\n",
    "        indice_precos[k],\n",
    "        sep=' : ')"
   ]
  },
  {
   "cell_type": "code",
   "execution_count": 29,
   "metadata": {},
   "outputs": [
    {
     "data": {
      "image/png": "[encoded data removed]",
      "text/plain": [
       "<Figure size 640x480 with 1 Axes>"
      ]
     },
     "metadata": {},
     "output_type": "display_data"
    }
   ],
   "source": [
    "plt.plot(faturamento, color='b', alpha=0.9)\n",
    "plt.plot(fat_deflacionado, color='g', alpha=0.9)\n",
    "plt.legend(['Original', 'Deflacionado'])\n",
    "plt.yticks([0, 1000000, 2000000, 3000000])\n",
    "plt.xticks([])\n",
    "plt.title('')\n",
    "plt.ylabel('Valore em Milhões')\n",
    "plt.xlabel('Anos')\n",
    "sns.despine()"
   ]
  },
  {
   "cell_type": "code",
   "execution_count": 30,
   "metadata": {},
   "outputs": [
    {
     "data": {
      "text/plain": [
       "[100.0, 93.75, 100.0, 109.375, 104.16666666666667, 106.951871657754]"
      ]
     },
     "execution_count": 30,
     "metadata": {},
     "output_type": "execute_result"
    }
   ],
   "source": [
    "\"\"\"\n",
    "Cálculo de evolução real do faturamento\n",
    "Definido o ano base para deflacionamento, fazemos o seguinte:\n",
    "* (valor_atual_deflacionado / valor base) * 100\n",
    "\"\"\"\n",
    "evolucao_real = [fat_deflacionado[k] / fat_deflacionado[0] * 100 for\n",
    "                k in range(0, len(anos))]\n",
    "\n",
    "evolucao_real"
   ]
  },
  {
   "cell_type": "code",
   "execution_count": 31,
   "metadata": {},
   "outputs": [
    {
     "data": {
      "image/png": "[encoded data removed]",
      "text/plain": [
       "<Figure size 640x480 with 1 Axes>"
      ]
     },
     "metadata": {},
     "output_type": "display_data"
    }
   ],
   "source": [
    "plt.plot(evolucao_real, color='orange', alpha=0.9)\n",
    "plt.plot([100 for k in range(0, len(anos))], color='gray', ls=':')\n",
    "plt.legend(['Evolução', '100%'])\n",
    "plt.ylim((50, 150))\n",
    "plt.yticks([])\n",
    "plt.xticks([])\n",
    "plt.title('')\n",
    "plt.title('Evolução real do faturamento')\n",
    "plt.ylabel('Evolução')\n",
    "plt.xlabel('Anos')\n",
    "sns.despine()"
   ]
  },
  {
   "cell_type": "code",
   "execution_count": 32,
   "metadata": {},
   "outputs": [
    {
     "data": {
      "image/png": "[encoded data removed]",
      "text/plain": [
       "<Figure size 640x480 with 1 Axes>"
      ]
     },
     "metadata": {},
     "output_type": "display_data"
    }
   ],
   "source": [
    "plt.bar(anos, height=faturamento, alpha=0.9)\n",
    "plt.bar(anos, fat_deflacionado, alpha=0.9)\n",
    "plt.legend(['Original', 'Deflacionado'])\n",
    "plt.yticks([0, 1000000, 2000000, 3000000])\n",
    "plt.title('Faturamento Original e Deflacionado')\n",
    "plt.ylabel('Valore em Milhões')\n",
    "sns.despine()\n",
    "     "
   ]
  }
 ],
 "metadata": {
  "kernelspec": {
   "display_name": "Python 3",
   "language": "python",
   "name": "python3"
  },
  "language_info": {
   "codemirror_mode": {
    "name": "ipython",
    "version": 3
   },
   "file_extension": ".py",
   "mimetype": "text/x-python",
   "name": "python",
   "nbconvert_exporter": "python",
   "pygments_lexer": "ipython3",
   "version": "3.12.2"
  }
 },
 "nbformat": 4,
 "nbformat_minor": 2
}
