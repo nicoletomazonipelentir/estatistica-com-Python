{
 "cells": [
  {
   "cell_type": "code",
   "execution_count": 5,
   "metadata": {},
   "outputs": [],
   "source": [
    "# -*- coding: utf-8 -*-\n",
    "\"\"\"\n",
    "##=============================================================\n",
    "##AMOSTRAS COM PANDAS E RANDOM\n",
    "##=============================================================\n",
    "\n",
    "Script para criação de subsets e gravação em arquivo csv\n",
    "\n",
    "Created on Mon Apr 26 09:04:49 2021\n",
    "\n",
    "@author: janio\n",
    "\"\"\"\n",
    "import os\n",
    "import pandas as pd\n",
    "from random import sample, seed\n",
    "\n",
    "\n",
    "##=============================================================\n",
    "##CARGA DOS DADOS ORIGINAIS\n",
    "##=============================================================\n",
    "#Configuração do diretório de trabalho e do arquivo original\n",
    "#Substituir pelos dados de sua aplicação\n",
    "\n",
    "arquivo = \"loan_sub.csv\"\n",
    "\n",
    "#Conjunto de dados original disponível no Kaggle\n",
    "dados = pd.read_csv(arquivo, low_memory=False)\n",
    "\n",
    "##=============================================================\n",
    "##GERAÇÃO E ARMAZENAMENTO DO SUBSET\n",
    "##=============================================================\n",
    "#Semente para garantir a reprodutibilidade da amostra\n",
    "seed(31)\n",
    "\n",
    "#Índices do dataset\n",
    "options = list(range(0, len(dados)))\n",
    "\n",
    "#Definição do tamanho da amostra\n",
    "percent_amostra = 0.1 #Percentual\n",
    "tam_amostra = int((len(dados)) * percent_amostra) #Quantidade\n",
    "\n",
    "#Índices da amostra\n",
    "sampleIdx = sample(options, tam_amostra)\n",
    "\n",
    "#Geração da amostra e armazenamento como csv\n",
    "subset = dados.iloc[sampleIdx]\n",
    "output = 'sub_set.csv'\n",
    "subset.to_csv(output, index=False)"
   ]
  }
 ],
 "metadata": {
  "kernelspec": {
   "display_name": "Python 3",
   "language": "python",
   "name": "python3"
  },
  "language_info": {
   "codemirror_mode": {
    "name": "ipython",
    "version": 3
   },
   "file_extension": ".py",
   "mimetype": "text/x-python",
   "name": "python",
   "nbconvert_exporter": "python",
   "pygments_lexer": "ipython3",
   "version": "3.12.2"
  }
 },
 "nbformat": 4,
 "nbformat_minor": 2
}
