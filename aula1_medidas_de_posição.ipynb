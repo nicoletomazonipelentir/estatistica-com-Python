{
 "cells": [
  {
   "cell_type": "markdown",
   "metadata": {},
   "source": [
    "## 01 ESTATÍSTICA BÁSICA NO PYTHON: Introdução e medidas de posição\n",
    "\n",
    "Link: https://www.youtube.com/watch?v=yW5mqf7k82k&list=PL0XxTDj23A1F4-nrAMDlRxvZkKJmCw2Qb\n",
    "https://www.youtube.com/watch?v=kt-5klXvsws&list=PL0XxTDj23A1F4-nrAMDlRxvZkKJmCw2Qb&index=2\n",
    "\n",
    "**Referências:**\n",
    "\n",
    "1.   Bruce, Peter. Bruce, Andrew. (2019)\n",
    "Estatística Prática para Cientista de Dados: 50 conceitos essenciais. Alta Books, 1 ed.\n",
    "2.   Toledo, Geraldo Luciano. Ovalle, Ivo Izidoro. (1985) Estatística Básica. Atlas, 2 ed.\n",
    "\n",
    "**Leitura complementar** (não abordada na playlist):\n",
    "\n",
    "1.   Dantas, Carlos A. B. (2013) Probabilidade: um curso introdutório. EDUSP, 3 ed.\n",
    "2.   Murolo, Afrânio Carlos. Bonetto, Giácomo. (2016) Matemática Aplicada à Administração, Economia e Contabilidade. Cengage Learning, 2 ed.\n"
   ]
  },
  {
   "cell_type": "markdown",
   "metadata": {},
   "source": [
    "### Medidas de posição\n",
    "\n",
    "1.   Média aritmética\n",
    "2.   Média aritmética ponderada\n",
    "3.   Média harmônica e harmônica ponderada\n",
    "4.   Média quadrática"
   ]
  },
  {
   "cell_type": "markdown",
   "metadata": {},
   "source": [
    "A média basicamente quer representar onde está o meio, qual informação somando o todo e dividindo por sua quatidade indicam um meio."
   ]
  },
  {
   "cell_type": "code",
   "execution_count": 24,
   "metadata": {},
   "outputs": [
    {
     "data": {
      "text/plain": [
       "143.33333333333334"
      ]
     },
     "execution_count": 24,
     "metadata": {},
     "output_type": "execute_result"
    }
   ],
   "source": [
    "#1\n",
    "#como os incas faziam\n",
    "valores=[10,60,360]\n",
    "media=sum(valores)/len(valores)\n",
    "media"
   ]
  },
  {
   "cell_type": "code",
   "execution_count": 25,
   "metadata": {},
   "outputs": [
    {
     "data": {
      "text/plain": [
       "143.33333333333334"
      ]
     },
     "execution_count": 25,
     "metadata": {},
     "output_type": "execute_result"
    }
   ],
   "source": [
    "#com numpy\n",
    "import numpy as np\n",
    "\n",
    "np.mean(valores)"
   ]
  },
  {
   "cell_type": "code",
   "execution_count": 26,
   "metadata": {},
   "outputs": [
    {
     "data": {
      "text/plain": [
       "8.5"
      ]
     },
     "execution_count": 26,
     "metadata": {},
     "output_type": "execute_result"
    }
   ],
   "source": [
    "#2\n",
    "pesos=[1,2,3,4]\n",
    "notas=[8,7,9,9]\n",
    "\"\"\"soma(pesos*nota)/soma(pesos)\"\"\"\n",
    "\n",
    "notasXpesos=[notas[i]*pesos[i] for i in range(0,len(notas))]\n",
    "\n",
    "media_ponderada=sum(notasXpesos)/sum(pesos)\n",
    "media_ponderada"
   ]
  },
  {
   "cell_type": "code",
   "execution_count": 27,
   "metadata": {},
   "outputs": [
    {
     "name": "stdout",
     "output_type": "stream",
     "text": [
      "Média harmônica = 3/0.1194\n",
      "Média harmônica = 25.1163\n"
     ]
    }
   ],
   "source": [
    "#3\n",
    "#como os incas faziam\n",
    "valores=[10,60,360]\n",
    "\"\"\"\n",
    "A forma de cálculo é media harmonica\n",
    "xh=(1/soma(1/xj))\n",
    "xh=n/(sum(1/xj))\n",
    "\"\"\"\n",
    "tamanho=len(valores)\n",
    "somavalores=(1/valores[0])+(1/valores[1])+(1/valores[2])\n",
    "print(f'Média harmônica = {tamanho}/{somavalores:.4f}')\n",
    "xh=tamanho/somavalores\n",
    "print(f'Média harmônica = {xh:.4f}')"
   ]
  },
  {
   "cell_type": "code",
   "execution_count": 28,
   "metadata": {},
   "outputs": [
    {
     "data": {
      "text/plain": [
       "25.11627906976744"
      ]
     },
     "execution_count": 28,
     "metadata": {},
     "output_type": "execute_result"
    }
   ],
   "source": [
    "#com looping\n",
    "somavalores=[(1/valores[k]) for k in range(0, len(valores))]\n",
    "somavalores=sum(somavalores)\n",
    "\n",
    "valoresh=tamanho/somavalores\n",
    "valoresh"
   ]
  },
  {
   "cell_type": "markdown",
   "metadata": {},
   "source": [
    "Uma pessoa comprou 4 camisas a R$30 cada e 2 camisas por R$50 cada\n",
    "R$120 em camisas de R$30\n",
    "R$100 em camisa de R$50"
   ]
  },
  {
   "cell_type": "code",
   "execution_count": 29,
   "metadata": {},
   "outputs": [
    {
     "name": "stdout",
     "output_type": "stream",
     "text": [
      "220 6.0\n",
      "Média harmônica ponderada dos preços: 36.67\n"
     ]
    }
   ],
   "source": [
    "gastos=[120,100]#ponderacao(preço*quantidade)\n",
    "precos=[30,50]#dados\n",
    "quantidades=[4,2]\n",
    "\n",
    "\"\"\"Média harmônica ponderada:\n",
    "xhp=1/(ponderacao/somaPonderacao)\n",
    "ponderacao=(peso1*(1/dado1)+...+pesoN*(1/dadoN))\"\"\"\n",
    "\n",
    "somaGastos=sum(gastos)\n",
    "ponderacao=((gastos[0]*(1/precos[0])) + (gastos[1]*(1/precos[1])))\n",
    "print(somaGastos,ponderacao)\n",
    "\n",
    "precohP =1/(ponderacao/somaGastos)\n",
    "print(f\"Média harmônica ponderada dos preços: {precohP:.2f}\")"
   ]
  },
  {
   "cell_type": "code",
   "execution_count": 30,
   "metadata": {},
   "outputs": [
    {
     "name": "stdout",
     "output_type": "stream",
     "text": [
      "12\n",
      "Média quadrática de [2, 2, 2]: \n"
     ]
    },
    {
     "data": {
      "text/plain": [
       "2.0"
      ]
     },
     "execution_count": 30,
     "metadata": {},
     "output_type": "execute_result"
    }
   ],
   "source": [
    "#4\n",
    "\"\"\"Simples mediaQ=raiz(soma(dados**2)/n)\"\"\"\n",
    "x=[2,2,2]\n",
    "\n",
    "nx=len(x)\n",
    "somax2=[x[k]**2 for k in range(0,len(x))]\n",
    "somax2=sum(somax2)\n",
    "print(somax2)\n",
    "\n",
    "mediaQx=np.sqrt(somax2/nx)\n",
    "print(f\"Média quadrática de {x}: \")\n",
    "mediaQx"
   ]
  },
  {
   "cell_type": "code",
   "execution_count": 31,
   "metadata": {},
   "outputs": [
    {
     "data": {
      "text/plain": [
       "2298"
      ]
     },
     "execution_count": 31,
     "metadata": {},
     "output_type": "execute_result"
    }
   ],
   "source": [
    "\"\"\"Ponderada mediaQP=raiz(soma(dados**2 * ponderacao))/n\"\"\"\n",
    "\n",
    "dados={3:5,5:10,7:12,9:10,11:5}\n",
    "dados_list=[[3,5,7,9,11],[5,10,12,10,5]]\n",
    "\n",
    "#aqui pega os valores chaves\n",
    "valores=list(dados.keys())\n",
    "valores\n",
    "\n",
    "#aqui pega os valores mesmo\n",
    "freq=list(dados.values())\n",
    "freq\n",
    "\n",
    "valores2=[valores[k]**2 for k in range(0,len(valores))]\n",
    "valores2\n",
    "\n",
    "#multiplicando a chave pelo valor\n",
    "n=len(valores)\n",
    "val2xfreq=[valores2[k]*freq[k] for k in range(0,n)]\n",
    "val2xfreq\n",
    "sum(val2xfreq)\n"
   ]
  },
  {
   "cell_type": "code",
   "execution_count": 32,
   "metadata": {},
   "outputs": [
    {
     "name": "stdout",
     "output_type": "stream",
     "text": [
      "Média quadratica ponderada dos dados: 7.397\n",
      "Dados:\n",
      "Valor : Frequencia\n",
      "    3 :     5\n",
      "    5 :    10\n",
      "    7 :    12\n",
      "    9 :    10\n",
      "   11 :     5\n"
     ]
    }
   ],
   "source": [
    "from pprint import pprint\n",
    "nx=sum(freq)\n",
    "mediaQPx=np.sqrt(sum(val2xfreq)/nx)\n",
    "print(f\"Média quadratica ponderada dos dados: {mediaQPx:.3f}\")\n",
    "print('Dados:\\nValor : Frequencia')\n",
    "for k,v in dados.items():\n",
    "    print(f\"{k:5}\", f\"{v:5}\",sep=\" : \")"
   ]
  },
  {
   "cell_type": "markdown",
   "metadata": {},
   "source": [
    "Relação empírica entre média, moda e mediana\n",
    "\n",
    "De forma simplificada:\n",
    "\n",
    "1. Média: medida de tendência central para descrever resumidamente uma distribuição de frequência. Vide exemplos anteriores (diversas formas de obtenção) de um valor central dos dados\n",
    "2. Mo - Moda: valor mais frequente no conjunto de dados\n",
    "3. Md - Mediana: valor central do conjunto de dados em que ao menos 50% dos valores sejam iguais ou maiores a ela\n",
    "\n",
    "Condições para relações empíricas:\n",
    "\n",
    "1. Distribuição unimodal;\n",
    "2. Distribuição fracamente assimétrica;\n",
    "3. Número de observações grande e pequena escala de unidades que divide a distribuição.\n",
    "\n",
    "Relações:\n",
    "\n",
    "1. média = (3Md - Mo) / 2\n",
    "2. Mo = 3md - 2media\n",
    "3. Md = (2media + Mo) / 3"
   ]
  }
 ],
 "metadata": {
  "kernelspec": {
   "display_name": "Python 3",
   "language": "python",
   "name": "python3"
  },
  "language_info": {
   "codemirror_mode": {
    "name": "ipython",
    "version": 3
   },
   "file_extension": ".py",
   "mimetype": "text/x-python",
   "name": "python",
   "nbconvert_exporter": "python",
   "pygments_lexer": "ipython3",
   "version": "3.12.2"
  }
 },
 "nbformat": 4,
 "nbformat_minor": 2
}
