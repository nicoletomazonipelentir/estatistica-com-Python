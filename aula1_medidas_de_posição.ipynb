{
 "cells": [
  {
   "cell_type": "markdown",
   "metadata": {},
   "source": [
    "## 01 ESTATÍSTICA BÁSICA NO PYTHON: Introdução e medidas de posição\n",
    "\n",
    "Link: https://www.youtube.com/watch?v=yW5mqf7k82k&list=PL0XxTDj23A1F4-nrAMDlRxvZkKJmCw2Qb\n",
    "\n",
    "**Referências:**\n",
    "\n",
    "1.   Bruce, Peter. Bruce, Andrew. (2019)\n",
    "Estatística Prática para Cientista de Dados: 50 conceitos essenciais. Alta Books, 1 ed.\n",
    "2.   Toledo, Geraldo Luciano. Ovalle, Ivo Izidoro. (1985) Estatística Básica. Atlas, 2 ed.\n",
    "\n",
    "**Leitura complementar** (não abordada na playlist):\n",
    "\n",
    "1.   Dantas, Carlos A. B. (2013) Probabilidade: um curso introdutório. EDUSP, 3 ed.\n",
    "2.   Murolo, Afrânio Carlos. Bonetto, Giácomo. (2016) Matemática Aplicada à Administração, Economia e Contabilidade. Cengage Learning, 2 ed.\n"
   ]
  },
  {
   "cell_type": "markdown",
   "metadata": {},
   "source": [
    "### Medidas de posição\n",
    "\n",
    "1.   Média aritmética\n",
    "2.   Média aritmética ponderada"
   ]
  },
  {
   "cell_type": "code",
   "execution_count": 1,
   "metadata": {},
   "outputs": [
    {
     "data": {
      "text/plain": [
       "143.33333333333334"
      ]
     },
     "execution_count": 1,
     "metadata": {},
     "output_type": "execute_result"
    }
   ],
   "source": [
    "#1\n",
    "#como os incas faziam\n",
    "x=[10,60,360]\n",
    "media=sum(x)/len(x)\n",
    "media"
   ]
  },
  {
   "cell_type": "code",
   "execution_count": 3,
   "metadata": {},
   "outputs": [
    {
     "data": {
      "text/plain": [
       "143.33333333333334"
      ]
     },
     "execution_count": 3,
     "metadata": {},
     "output_type": "execute_result"
    }
   ],
   "source": [
    "#com numpy\n",
    "import numpy as np\n",
    "np.mean(x)"
   ]
  }
 ],
 "metadata": {
  "kernelspec": {
   "display_name": "Python 3",
   "language": "python",
   "name": "python3"
  },
  "language_info": {
   "codemirror_mode": {
    "name": "ipython",
    "version": 3
   },
   "file_extension": ".py",
   "mimetype": "text/x-python",
   "name": "python",
   "nbconvert_exporter": "python",
   "pygments_lexer": "ipython3",
   "version": "3.12.2"
  }
 },
 "nbformat": 4,
 "nbformat_minor": 2
}
