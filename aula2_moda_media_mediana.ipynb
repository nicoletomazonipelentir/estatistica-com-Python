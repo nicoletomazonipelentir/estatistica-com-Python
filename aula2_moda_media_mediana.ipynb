{
 "cells": [
  {
   "cell_type": "code",
   "execution_count": 13,
   "metadata": {},
   "outputs": [],
   "source": [
    "import numpy as np"
   ]
  },
  {
   "cell_type": "markdown",
   "metadata": {},
   "source": [
    "Relação empírica entre média, moda e mediana\n",
    "\n",
    "De forma simplificada:\n",
    "\n",
    "Média: medida de tendência central para descrever resumidamente uma distribuição de frequência. Vide exemplos anteriores (diversas formas de obtenção) de um valor central dos dados\n",
    "Mo - Moda: valor mais frequente no conjunto de dados\n",
    "Md - Mediana: valor central do conjunto de dados em que ao menos 50% dos valores sejam iguais ou maiores a ela\n",
    "Condições para relações empíricas:\n",
    "\n",
    "1. Distribuição unimodal;\n",
    "2. Distribuição fracamente assimétrica;\n",
    "3. Número de observações grande e pequena escala de unidades que divide a distribuição.\n",
    "\n",
    "Relações:\n",
    "\n",
    "1. média = (3Md - Mo) / 2\n",
    "2. Mo = 3md - 2media\n",
    "3. Md = (2media + Mo) / 3\n",
    "\n",
    "## 2 Moda e Mediana"
   ]
  },
  {
   "cell_type": "code",
   "execution_count": 14,
   "metadata": {},
   "outputs": [
    {
     "data": {
      "text/plain": [
       "[60, 210, 770, 1950, 1330, 920, 810, 310]"
      ]
     },
     "execution_count": 14,
     "metadata": {},
     "output_type": "execute_result"
    }
   ],
   "source": [
    "#Dados\n",
    "classes = ['5 |- 25',\n",
    "           '25 |- 45',\n",
    "           '45 |- 65',\n",
    "           '65 |- 85',\n",
    "           '85 |- 105',\n",
    "           '105 |- 125',\n",
    "           '125 |- 145',\n",
    "           '145 |- 165']\n",
    "k = 8\n",
    "usuarios_fj = [4, 6, 14, 26, 14, 8, 6, 2]\n",
    "n = sum(usuarios_fj)\n",
    "k = len(usuarios_fj)\n",
    "xj = [15, 35, 55, 75, 95, 115, 135, 155]\n",
    "usr_Acum_Fj = [4, 10, 24, 50, 64, 72, 78]\n",
    "\n",
    "xjfj = [usuarios_fj[i] * xj[i] for i in range(0, len(usuarios_fj))]\n",
    "xjfj"
   ]
  },
  {
   "cell_type": "code",
   "execution_count": 15,
   "metadata": {},
   "outputs": [
    {
     "data": {
      "text/plain": [
       "77.3076923076923"
      ]
     },
     "execution_count": 15,
     "metadata": {},
     "output_type": "execute_result"
    }
   ],
   "source": [
    "\n",
    "#Cálculo da média\n",
    "media = sum(xjfj) / n\n",
    "media\n",
    "\n",
    "#Mediana\n",
    "fMd = max(usuarios_fj) #Frequência da mediana\n",
    "posMd = usuarios_fj.index(fMd)\n",
    "classeMd = classes[posMd]\n",
    "l = 65 #Limite inferiro da classe mediana 65 |- 85\n",
    "c = 20 #Amplitude das classes\n",
    "eMd = n / 2 #Elemento mediano\n",
    "fAnt = usr_Acum_Fj[(usuarios_fj.index(fMd))-1] #Frequência anterior à mediana\n",
    "\n",
    "md = l + c * ((eMd - fAnt) / fMd)\n",
    "md"
   ]
  },
  {
   "cell_type": "code",
   "execution_count": 16,
   "metadata": {},
   "outputs": [
    {
     "data": {
      "text/plain": [
       "78.46153846153845"
      ]
     },
     "execution_count": 16,
     "metadata": {},
     "output_type": "execute_result"
    }
   ],
   "source": [
    "#Moda calculada\n",
    "\"\"\"\n",
    "mo = l + c * (delta1) / (datal1 + delta2)\n",
    "delta1 = freq. classe modal - freq. da classe anterior\n",
    "delta2 = freq. classe modal - freq. da classe posterior\n",
    "\"\"\"\n",
    "f_ant = usuarios_fj[(usuarios_fj.index(fMd)) - 1] #Freq. classe anterior\n",
    "f_post = usuarios_fj[(usuarios_fj.index(fMd)) + 1] #Freq. classe posterior\n",
    "delta1 = fMd - f_ant\n",
    "delta2 = fMd - f_post\n",
    "\n",
    "#Aplicação da fórmula\n",
    "mo = l + c * delta1 / (delta1 + delta2)\n",
    "mo\n",
    "\n",
    "#Moda pela relação empírica\n",
    "mo_emp = 3 * md - 2 * media\n",
    "mo_emp\n",
    "\n",
    "#Mediana pela relação empírica\n",
    "md_emp = (2 * media + mo) / 3\n",
    "md_emp\n",
    "\n",
    "#Média pela relação empírica\n",
    "media_emp = (3 * md - mo) / 2\n",
    "media_emp"
   ]
  },
  {
   "cell_type": "code",
   "execution_count": 17,
   "metadata": {},
   "outputs": [
    {
     "name": "stdout",
     "output_type": "stream",
     "text": [
      "Média Mediana Moda\n",
      " 16.4 10.0 10\n"
     ]
    }
   ],
   "source": [
    "\"\"\"\n",
    "As bibliotecas numpy e estatistics tem métodos para cálculo destas medidas\n",
    "de forma direta e simplificada\n",
    "\"\"\"\n",
    "import statistics as sts\n",
    "\n",
    "dados = [10, 10, 25, 32, 5]\n",
    "\n",
    "print('Média Mediana Moda\\n', np.mean(dados),\n",
    "      np.median(dados),\n",
    "      sts.mode(dados)\n",
    "      )"
   ]
  },
  {
   "cell_type": "code",
   "execution_count": 18,
   "metadata": {},
   "outputs": [
    {
     "data": {
      "text/plain": [
       "ModeResult(mode=5, count=3)"
      ]
     },
     "execution_count": 18,
     "metadata": {},
     "output_type": "execute_result"
    }
   ],
   "source": [
    "listaItens = ['SP', 'RJ','MG','SP','TO','RS','SC','SP','SC']\n",
    "sts.mode(listaItens)\n",
    "\n",
    "\"\"\"\n",
    "Usar statistics.mode() com este conjunto de dados retorna um erro porque há mais de uma\n",
    "moda.\n",
    "Usar scipy.stats retorna apenas o menor valor entre as modas\n",
    "\"\"\"\n",
    "lista = [2, 5, 7, 4, 1, 9, 5, 9, 2, 6, 7, 9, 4, 3, 5, 7]\n",
    "#sts.mode(lista)\n",
    "from scipy import stats as s\n",
    "moda = s.mode(lista, axis=None)\n",
    "moda"
   ]
  },
  {
   "cell_type": "code",
   "execution_count": 19,
   "metadata": {},
   "outputs": [
    {
     "data": {
      "text/plain": [
       "5.3125"
      ]
     },
     "execution_count": 19,
     "metadata": {},
     "output_type": "execute_result"
    }
   ],
   "source": [
    "#Para verificar as múltiplas modas, usamos Counter e observamos most_common\n",
    "from collections import Counter\n",
    "freq_lista = Counter(lista)\n",
    "freq_lista.most_common()\n",
    "\n",
    "#Mediana\n",
    "np.median(lista)\n",
    "\n",
    "#Média\n",
    "np.mean(lista)"
   ]
  }
 ],
 "metadata": {
  "kernelspec": {
   "display_name": "Python 3",
   "language": "python",
   "name": "python3"
  },
  "language_info": {
   "codemirror_mode": {
    "name": "ipython",
    "version": 3
   },
   "file_extension": ".py",
   "mimetype": "text/x-python",
   "name": "python",
   "nbconvert_exporter": "python",
   "pygments_lexer": "ipython3",
   "version": "3.12.2"
  }
 },
 "nbformat": 4,
 "nbformat_minor": 2
}
